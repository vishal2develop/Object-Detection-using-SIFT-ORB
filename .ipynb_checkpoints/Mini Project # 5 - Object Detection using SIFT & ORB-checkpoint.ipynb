{
 "cells": [
  {
   "cell_type": "markdown",
   "metadata": {},
   "source": [
    "## Mini Project #5 - Object Detection using SIFT"
   ]
  },
  {
   "cell_type": "code",
   "execution_count": 10,
   "metadata": {},
   "outputs": [
    {
     "ename": "AttributeError",
     "evalue": "'NoneType' object has no attribute 'shape'",
     "output_type": "error",
     "traceback": [
      "\u001b[1;31m---------------------------------------------------------------------------\u001b[0m",
      "\u001b[1;31mAttributeError\u001b[0m                            Traceback (most recent call last)",
      "\u001b[1;32m<ipython-input-10-8a3b7017dd5c>\u001b[0m in \u001b[0;36m<module>\u001b[1;34m()\u001b[0m\n\u001b[0;32m     45\u001b[0m     \u001b[0mret\u001b[0m\u001b[1;33m,\u001b[0m \u001b[0mframe\u001b[0m \u001b[1;33m=\u001b[0m \u001b[0mcap\u001b[0m\u001b[1;33m.\u001b[0m\u001b[0mread\u001b[0m\u001b[1;33m(\u001b[0m\u001b[1;33m)\u001b[0m\u001b[1;33m\u001b[0m\u001b[0m\n\u001b[0;32m     46\u001b[0m     \u001b[1;31m#Get Height & Width of webcam frame\u001b[0m\u001b[1;33m\u001b[0m\u001b[1;33m\u001b[0m\u001b[0m\n\u001b[1;32m---> 47\u001b[1;33m     \u001b[0mheight\u001b[0m\u001b[1;33m,\u001b[0m \u001b[0mwidth\u001b[0m \u001b[1;33m=\u001b[0m \u001b[0mframe\u001b[0m\u001b[1;33m.\u001b[0m\u001b[0mshape\u001b[0m\u001b[1;33m[\u001b[0m\u001b[1;33m:\u001b[0m\u001b[1;36m2\u001b[0m\u001b[1;33m]\u001b[0m\u001b[1;33m\u001b[0m\u001b[0m\n\u001b[0m\u001b[0;32m     48\u001b[0m \u001b[1;33m\u001b[0m\u001b[0m\n\u001b[0;32m     49\u001b[0m     \u001b[1;31m#Define ROI box dimensions\u001b[0m\u001b[1;33m\u001b[0m\u001b[1;33m\u001b[0m\u001b[0m\n",
      "\u001b[1;31mAttributeError\u001b[0m: 'NoneType' object has no attribute 'shape'"
     ]
    }
   ],
   "source": [
    "import cv2\n",
    "import numpy as np\n",
    "\n",
    "def sift_detector(new_image, image_template):\n",
    "    # Function that compares input image to template\n",
    "    # It then returns the number of SIFT matches between them\n",
    "    \n",
    "    image1 = cv2.cvtColor(new_image, cv2.COLOR_BGR2GRAY)\n",
    "    image2 = image_template\n",
    "    \n",
    "    # Create SIFT detector object\n",
    "    #sift = cv2.SIFT()\n",
    "    sift = cv2.xfeatures2d.SIFT_create()\n",
    "\n",
    "    # Obtain the keypoints and descriptors using SIFT\n",
    "    keypoints_1, descriptors_1 = sift.detectAndCompute(image1, None)\n",
    "    keypoints_2, descriptors_2 = sift.detectAndCompute(image2, None)\n",
    "\n",
    "    # Define parameters for our Flann Matcher\n",
    "    FLANN_INDEX_KDTREE = 0\n",
    "    index_params = dict(algorithm = FLANN_INDEX_KDTREE, trees = 3)\n",
    "    search_params = dict(checks = 100)\n",
    "\n",
    "    # Create the Flann Matcher object\n",
    "    flann = cv2.FlannBasedMatcher(index_params, search_params)\n",
    "\n",
    "    # Obtain matches using K-Nearest Neighbor Method\n",
    "    # the result 'matchs' is the number of similar matches found in both images\n",
    "    matches = flann.knnMatch(descriptors_1, descriptors_2, k=2)\n",
    "\n",
    "    # Store good matches using Lowe's ratio test\n",
    "    good_matches = []\n",
    "    for m,n in matches:\n",
    "        if m.distance < 0.7 * n.distance:\n",
    "            good_matches.append(m) \n",
    "\n",
    "    return len(good_matches)\n",
    "\n",
    "\n",
    "cap=cv2.VideoCapture(0)\n",
    "#Load our image template, this is our referecne image\n",
    "image_template=cv2.imread('./images/box_in_scene.png', 0)\n",
    "\n",
    "while True:\n",
    "    \n",
    "    # Get Webcam images\n",
    "    ret, frame = cap.read()\n",
    "    # Get Height & Width of webcam frame\n",
    "    height, width = frame.shape[:2]\n",
    "    \n",
    "    # Define ROI box dimensions\n",
    "    top_left_x=width/3\n",
    "    top_left_y=(height/2) + (height/4)\n",
    "    bottom_right_x=(width/3)*2\n",
    "    bottom_right_y=(height/2) - (height/4)\n",
    "    \n",
    "    # Draw rectangular window for our region of interest\n",
    "    cv2.rectangle(frame, (int(top_left_x),int(top_left_y)), (int(bottom_right_x),int(bottom_right_y)), 255, 3)\n",
    "    # Crop window of observation we defined above\n",
    "    #cropped = frame[bottom_right_y:top_left_y , top_left_x:bottom_right_x]\n",
    "    cropped = frame[int(bottom_right_y):int(top_left_y) , int(top_left_x):int(bottom_right_x)]\n",
    "    \n",
    "    # Flip frame orientation horizontally\n",
    "    frame=cv2.flip(frame,1)\n",
    "    # Get number of SIFT matches\n",
    "    matches=sift_detector(cropped,image_template)\n",
    "    # Display status string showing the current no. of matches \n",
    "    cv2.putText(frame,str(matches),(450,450), cv2.FONT_HERSHEY_COMPLEX, 2,(0,255,0),1)\n",
    "    \n",
    "    # Our threshold to indicate object deteciton\n",
    "    # We use 10 since the SIFT detector returns little false positves\n",
    "    threshold=10\n",
    "    \n",
    "    # If matches exceed our threshold then object has been detected\n",
    "    if matches>threshold:\n",
    "        cv2.rectangle(frame, (int(top_left_x),int(top_left_y)), (int(bottom_right_x),int(bottom_right_y)), (0,255,0), 3)\n",
    "        cv2.putText(frame,'Object Found',(50,50), cv2.FONT_HERSHEY_COMPLEX, 2 ,(0,255,0), 2)\n",
    "    \n",
    "    cv2.imshow('Object Detector Using SIFT',frame)\n",
    "    \n",
    "    if cv2.waitKey():\n",
    "        break\n",
    "    \n",
    "cap.release()\n",
    "cv2.destroyAllWindows()\n",
    "\n"
   ]
  },
  {
   "cell_type": "code",
   "execution_count": null,
   "metadata": {
    "collapsed": true
   },
   "outputs": [],
   "source": []
  }
 ],
 "metadata": {
  "kernelspec": {
   "display_name": "Python 3",
   "language": "python",
   "name": "python3"
  },
  "language_info": {
   "codemirror_mode": {
    "name": "ipython",
    "version": 3
   },
   "file_extension": ".py",
   "mimetype": "text/x-python",
   "name": "python",
   "nbconvert_exporter": "python",
   "pygments_lexer": "ipython3",
   "version": "3.6.3"
  }
 },
 "nbformat": 4,
 "nbformat_minor": 2
}
